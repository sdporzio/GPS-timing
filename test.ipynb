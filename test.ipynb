{
 "cells": [
  {
   "cell_type": "code",
   "execution_count": 1,
   "metadata": {
    "collapsed": false,
    "jupyter": {
     "outputs_hidden": false
    }
   },
   "outputs": [],
   "source": [
    "### %matplotlib inline\n",
    "### Standard imports\n",
    "import io\n",
    "import uproot\n",
    "import numpy as np\n",
    "import pandas as pd\n",
    "import matplotlib.pyplot as plt\n",
    "from tqdm.notebook import tqdm\n",
    "from importlib import reload\n",
    "### HEPKIT imports\n",
    "import hepkit.hepData as hd\n",
    "import hepkit.hepIO as hio\n",
    "import hepkit.hepPlot as hp\n",
    "import hepkit.hepFormat as hf\n",
    "from hepkit.hepFormat import mc as mc\n",
    "### Settings\n",
    "hf.DefaultSetup()"
   ]
  },
  {
   "cell_type": "code",
   "execution_count": 15,
   "metadata": {},
   "outputs": [
    {
     "data": {
      "text/plain": [
       "['00',\n",
       " '58',\n",
       " '77',\n",
       " 'b5',\n",
       " '62',\n",
       " '0d',\n",
       " '01',\n",
       " '10',\n",
       " '00',\n",
       " '0d',\n",
       " '57',\n",
       " 'bd',\n",
       " '07',\n",
       " 'c0',\n",
       " 'f9',\n",
       " '7e',\n",
       " '8a',\n",
       " 'ea',\n",
       " 'f1',\n",
       " 'ff',\n",
       " 'ff',\n",
       " '64',\n",
       " '08',\n",
       " '0a']"
      ]
     },
     "execution_count": 15,
     "metadata": {},
     "output_type": "execute_result"
    }
   ],
   "source": [
    "import serial\n",
    "from textwrap import wrap\n",
    "\n",
    "a = b'005877b5620d0110000d57bd07c0f97e8aeaf1ffff64080a'\n",
    "a = a.decode('utf8')\n",
    "wrap(a,2)"
   ]
  },
  {
   "cell_type": "code",
   "execution_count": 20,
   "metadata": {},
   "outputs": [
    {
     "data": {
      "text/plain": [
       "'adsadasfdsgerh'"
      ]
     },
     "execution_count": 20,
     "metadata": {},
     "output_type": "execute_result"
    }
   ],
   "source": [
    "tre = 'adsadasfdsgerh'\n",
    "asd = wrap(tre,3)\n",
    "\n",
    "t = ''.join(asd)\n",
    "t"
   ]
  },
  {
   "cell_type": "code",
   "execution_count": 21,
   "metadata": {},
   "outputs": [],
   "source": [
    "test = 'ffffdafb'"
   ]
  },
  {
   "cell_type": "code",
   "execution_count": 22,
   "metadata": {},
   "outputs": [
    {
     "name": "stdout",
     "output_type": "stream",
     "text": [
      "-9477\n"
     ]
    }
   ],
   "source": [
    "s = bytes.fromhex(test)\n",
    "i = int.from_bytes(s, 'big', signed=True)\n",
    "print(i)"
   ]
  },
  {
   "cell_type": "code",
   "execution_count": null,
   "metadata": {},
   "outputs": [],
   "source": []
  }
 ],
 "metadata": {
  "kernelspec": {
   "display_name": "Python 3",
   "language": "python",
   "name": "python3"
  },
  "language_info": {
   "codemirror_mode": {
    "name": "ipython",
    "version": 3
   },
   "file_extension": ".py",
   "mimetype": "text/x-python",
   "name": "python",
   "nbconvert_exporter": "python",
   "pygments_lexer": "ipython3",
   "version": "3.7.8"
  }
 },
 "nbformat": 4,
 "nbformat_minor": 4
}
